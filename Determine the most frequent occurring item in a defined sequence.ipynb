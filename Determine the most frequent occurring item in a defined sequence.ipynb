{
 "cells": [
  {
   "cell_type": "markdown",
   "metadata": {},
   "source": [
    "# To determine the most frequent occurring item in a defined sequence"
   ]
  },
  {
   "cell_type": "code",
   "execution_count": 1,
   "metadata": {},
   "outputs": [
    {
     "name": "stdout",
     "output_type": "stream",
     "text": [
      "{'b': 61, 'i': 54, 'v': 41, 'l': 46, 'g': 51, 'm': 58, 'c': 46, 'k': 69, 'd': 41, 'X': 48, 'F': 49, 'N': 46, 'W': 67, 'I': 48, 'r': 50, 'H': 51, 'P': 46, 'D': 57, 'j': 48, 'o': 52, 's': 58, 'V': 36, 'L': 61, 'C': 52, 't': 51, 'z': 52, 'w': 53, 'K': 66, 'U': 62, 'R': 54, 'Y': 66, 'M': 54, 'A': 45, 'e': 67, 'E': 49, 'S': 53, 'G': 46, 'y': 45, 'n': 52, 'B': 53, 'f': 52, 'J': 46, 'h': 57, 'p': 43, 'q': 41, 'Q': 48, 'T': 58, 'Z': 51, 'x': 49, 'O': 51, 'u': 41, 'a': 53}\n",
      "\n",
      "The most common word is [('k', 69), ('W', 67), ('e', 67), ('K', 66), ('Y', 66), ('U', 62), ('b', 61), ('L', 61), ('m', 58), ('s', 58), ('T', 58), ('D', 57), ('h', 57), ('i', 54), ('R', 54), ('M', 54), ('w', 53), ('S', 53), ('B', 53), ('a', 53), ('o', 52), ('C', 52), ('z', 52), ('n', 52), ('f', 52), ('g', 51), ('H', 51), ('t', 51), ('Z', 51), ('O', 51), ('r', 50), ('F', 49), ('E', 49), ('x', 49), ('X', 48), ('I', 48), ('j', 48), ('Q', 48), ('l', 46), ('c', 46), ('N', 46), ('P', 46), ('G', 46), ('J', 46), ('A', 45), ('y', 45), ('p', 43), ('v', 41), ('d', 41), ('q', 41), ('u', 41), ('V', 36)].\n"
     ]
    }
   ],
   "source": [
    "# DISCLAIMER: The following python code is not the only way to determmine the most frequent \n",
    "# item in a defined sequence\n",
    "\n",
    "# Determine most frequent occurring items in a defined sequence\n",
    "import string # import string function\n",
    "import random # import random function\n",
    "from collections import Counter # import Counter function\n",
    "dummy_letters = string.ascii_letters # contains lower- and upper- alphabets\n",
    "dummy_value = random.randint(0,10e3) # define an arbitrary number \n",
    "\n",
    "main_dict = {} # define empty dictionary\n",
    "for i in range(dummy_value):\n",
    "    dummy_letter = random.choice(dummy_letters) # select an arbitrary letter\n",
    "    if dummy_letter in main_dict.keys(): # check if the dummy_letter is already a key or not \n",
    "                                         # in the dictionary\n",
    "        main_dict[dummy_letter] += 1     # if so, increase the value of the corresponding key by 1\n",
    "    else:\n",
    "        main_dict[dummy_letter] = 1      # if not, reduce the value of the corresponding key by 1\n",
    "print(main_dict)\n",
    "\n",
    "word_counters = Counter(main_dict) # use of Counter function\n",
    "top_few_words = random.randint(1,100) # to determine the top n letters in the created dictionary\n",
    "result_top_few = word_counters.most_common(top_few_words) # use of the most_common function\n",
    "print('')\n",
    "print('The most common word is ' + str(result_top_few) + '.') # printing out the top n letters in\n",
    "                                                              # the created dictionary\n",
    "\n",
    "main_list = [] # define an empty list\n",
    "for i in range(dummy_value):\n",
    "    dummy_length = random.randint(1,10) # define an arbitrary length of the string\n",
    "    word = '' # define an empty string\n",
    "    for j in range(dummy_length):\n",
    "        word += random.choice(dummy_letters) # concatenate arbitrary letter to the initial empty \n",
    "                                             # string\n",
    "    main_list.append(word) # append arbitrary string to main list\n"
   ]
  }
 ],
 "metadata": {
  "kernelspec": {
   "display_name": "Python 3",
   "language": "python",
   "name": "python3"
  },
  "language_info": {
   "codemirror_mode": {
    "name": "ipython",
    "version": 3
   },
   "file_extension": ".py",
   "mimetype": "text/x-python",
   "name": "python",
   "nbconvert_exporter": "python",
   "pygments_lexer": "ipython3",
   "version": "3.6.5"
  }
 },
 "nbformat": 4,
 "nbformat_minor": 2
}
