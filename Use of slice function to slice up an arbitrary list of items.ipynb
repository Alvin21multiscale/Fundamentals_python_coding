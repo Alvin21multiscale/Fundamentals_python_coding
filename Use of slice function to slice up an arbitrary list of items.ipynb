{
 "cells": [
  {
   "cell_type": "markdown",
   "metadata": {},
   "source": [
    "# Use of slice function to slice up an arbitrary list "
   ]
  },
  {
   "cell_type": "code",
   "execution_count": null,
   "metadata": {},
   "outputs": [],
   "source": [
    "# DISCLAIMER: The following python code is not the only way to determine for time conversions \n",
    "# and related\n",
    "\n",
    "# Naming a defined slice for \n",
    "import random # import python's random function\n",
    "list_size = random.randint(10,10000) # define an arbitrary size for the list\n",
    "main_list = list()\n",
    "for i in range(list_size):\n",
    "    main_list.append(random.randint(0,1000))\n",
    "\n",
    "while True:\n",
    "    a = random.randint(0,list_size) # starting point of list to perform slicing\n",
    "    b = random.randint(a+1,list_size) # ending point of list to perform slicing\n",
    "    if a!= list_size and b!= list_size:\n",
    "        if a < b:\n",
    "            choice_step_of_slice = int(input('Please enter your choice of step-size to perform' \\\n",
    "                                             ' the slicing'))\n",
    "            c = choice_step_of_slice\n",
    "            break       \n",
    "slice_1 = slice(a,b,c) # creates a slice object that can be used anywhere a slice is allowed\n",
    "print(main_list[slice_1])"
   ]
  }
 ],
 "metadata": {
  "kernelspec": {
   "display_name": "Python 3",
   "language": "python",
   "name": "python3"
  },
  "language_info": {
   "codemirror_mode": {
    "name": "ipython",
    "version": 3
   },
   "file_extension": ".py",
   "mimetype": "text/x-python",
   "name": "python",
   "nbconvert_exporter": "python",
   "pygments_lexer": "ipython3",
   "version": "3.6.5"
  }
 },
 "nbformat": 4,
 "nbformat_minor": 2
}
