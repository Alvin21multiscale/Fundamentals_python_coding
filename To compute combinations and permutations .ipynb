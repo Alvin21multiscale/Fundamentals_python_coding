{
 "cells": [
  {
   "cell_type": "markdown",
   "metadata": {},
   "source": [
    "# To compute combinations and permutations "
   ]
  },
  {
   "cell_type": "code",
   "execution_count": 1,
   "metadata": {},
   "outputs": [
    {
     "name": "stdout",
     "output_type": "stream",
     "text": [
      "[('C', 'j', 'M', 'v', 'Q'), ('C', 'j', 'M', 'Q', 'v'), ('C', 'j', 'v', 'M', 'Q'), ('C', 'j', 'v', 'Q', 'M'), ('C', 'j', 'Q', 'M', 'v'), ('C', 'j', 'Q', 'v', 'M'), ('C', 'M', 'j', 'v', 'Q'), ('C', 'M', 'j', 'Q', 'v'), ('C', 'M', 'v', 'j', 'Q'), ('C', 'M', 'v', 'Q', 'j'), ('C', 'M', 'Q', 'j', 'v'), ('C', 'M', 'Q', 'v', 'j'), ('C', 'v', 'j', 'M', 'Q'), ('C', 'v', 'j', 'Q', 'M'), ('C', 'v', 'M', 'j', 'Q'), ('C', 'v', 'M', 'Q', 'j'), ('C', 'v', 'Q', 'j', 'M'), ('C', 'v', 'Q', 'M', 'j'), ('C', 'Q', 'j', 'M', 'v'), ('C', 'Q', 'j', 'v', 'M'), ('C', 'Q', 'M', 'j', 'v'), ('C', 'Q', 'M', 'v', 'j'), ('C', 'Q', 'v', 'j', 'M'), ('C', 'Q', 'v', 'M', 'j'), ('j', 'C', 'M', 'v', 'Q'), ('j', 'C', 'M', 'Q', 'v'), ('j', 'C', 'v', 'M', 'Q'), ('j', 'C', 'v', 'Q', 'M'), ('j', 'C', 'Q', 'M', 'v'), ('j', 'C', 'Q', 'v', 'M'), ('j', 'M', 'C', 'v', 'Q'), ('j', 'M', 'C', 'Q', 'v'), ('j', 'M', 'v', 'C', 'Q'), ('j', 'M', 'v', 'Q', 'C'), ('j', 'M', 'Q', 'C', 'v'), ('j', 'M', 'Q', 'v', 'C'), ('j', 'v', 'C', 'M', 'Q'), ('j', 'v', 'C', 'Q', 'M'), ('j', 'v', 'M', 'C', 'Q'), ('j', 'v', 'M', 'Q', 'C'), ('j', 'v', 'Q', 'C', 'M'), ('j', 'v', 'Q', 'M', 'C'), ('j', 'Q', 'C', 'M', 'v'), ('j', 'Q', 'C', 'v', 'M'), ('j', 'Q', 'M', 'C', 'v'), ('j', 'Q', 'M', 'v', 'C'), ('j', 'Q', 'v', 'C', 'M'), ('j', 'Q', 'v', 'M', 'C'), ('M', 'C', 'j', 'v', 'Q'), ('M', 'C', 'j', 'Q', 'v'), ('M', 'C', 'v', 'j', 'Q'), ('M', 'C', 'v', 'Q', 'j'), ('M', 'C', 'Q', 'j', 'v'), ('M', 'C', 'Q', 'v', 'j'), ('M', 'j', 'C', 'v', 'Q'), ('M', 'j', 'C', 'Q', 'v'), ('M', 'j', 'v', 'C', 'Q'), ('M', 'j', 'v', 'Q', 'C'), ('M', 'j', 'Q', 'C', 'v'), ('M', 'j', 'Q', 'v', 'C'), ('M', 'v', 'C', 'j', 'Q'), ('M', 'v', 'C', 'Q', 'j'), ('M', 'v', 'j', 'C', 'Q'), ('M', 'v', 'j', 'Q', 'C'), ('M', 'v', 'Q', 'C', 'j'), ('M', 'v', 'Q', 'j', 'C'), ('M', 'Q', 'C', 'j', 'v'), ('M', 'Q', 'C', 'v', 'j'), ('M', 'Q', 'j', 'C', 'v'), ('M', 'Q', 'j', 'v', 'C'), ('M', 'Q', 'v', 'C', 'j'), ('M', 'Q', 'v', 'j', 'C'), ('v', 'C', 'j', 'M', 'Q'), ('v', 'C', 'j', 'Q', 'M'), ('v', 'C', 'M', 'j', 'Q'), ('v', 'C', 'M', 'Q', 'j'), ('v', 'C', 'Q', 'j', 'M'), ('v', 'C', 'Q', 'M', 'j'), ('v', 'j', 'C', 'M', 'Q'), ('v', 'j', 'C', 'Q', 'M'), ('v', 'j', 'M', 'C', 'Q'), ('v', 'j', 'M', 'Q', 'C'), ('v', 'j', 'Q', 'C', 'M'), ('v', 'j', 'Q', 'M', 'C'), ('v', 'M', 'C', 'j', 'Q'), ('v', 'M', 'C', 'Q', 'j'), ('v', 'M', 'j', 'C', 'Q'), ('v', 'M', 'j', 'Q', 'C'), ('v', 'M', 'Q', 'C', 'j'), ('v', 'M', 'Q', 'j', 'C'), ('v', 'Q', 'C', 'j', 'M'), ('v', 'Q', 'C', 'M', 'j'), ('v', 'Q', 'j', 'C', 'M'), ('v', 'Q', 'j', 'M', 'C'), ('v', 'Q', 'M', 'C', 'j'), ('v', 'Q', 'M', 'j', 'C'), ('Q', 'C', 'j', 'M', 'v'), ('Q', 'C', 'j', 'v', 'M'), ('Q', 'C', 'M', 'j', 'v'), ('Q', 'C', 'M', 'v', 'j'), ('Q', 'C', 'v', 'j', 'M'), ('Q', 'C', 'v', 'M', 'j'), ('Q', 'j', 'C', 'M', 'v'), ('Q', 'j', 'C', 'v', 'M'), ('Q', 'j', 'M', 'C', 'v'), ('Q', 'j', 'M', 'v', 'C'), ('Q', 'j', 'v', 'C', 'M'), ('Q', 'j', 'v', 'M', 'C'), ('Q', 'M', 'C', 'j', 'v'), ('Q', 'M', 'C', 'v', 'j'), ('Q', 'M', 'j', 'C', 'v'), ('Q', 'M', 'j', 'v', 'C'), ('Q', 'M', 'v', 'C', 'j'), ('Q', 'M', 'v', 'j', 'C'), ('Q', 'v', 'C', 'j', 'M'), ('Q', 'v', 'C', 'M', 'j'), ('Q', 'v', 'j', 'C', 'M'), ('Q', 'v', 'j', 'M', 'C'), ('Q', 'v', 'M', 'C', 'j'), ('Q', 'v', 'M', 'j', 'C')]\n",
      "\n",
      "[('C', 'j'), ('C', 'M'), ('C', 'v'), ('C', 'Q'), ('j', 'C'), ('j', 'M'), ('j', 'v'), ('j', 'Q'), ('M', 'C'), ('M', 'j'), ('M', 'v'), ('M', 'Q'), ('v', 'C'), ('v', 'j'), ('v', 'M'), ('v', 'Q'), ('Q', 'C'), ('Q', 'j'), ('Q', 'M'), ('Q', 'v')]\n",
      "\n",
      "[('C', 'j'), ('C', 'M'), ('C', 'v'), ('C', 'Q'), ('j', 'C'), ('j', 'M'), ('j', 'v'), ('j', 'Q'), ('M', 'C'), ('M', 'j'), ('M', 'v'), ('M', 'Q'), ('v', 'C'), ('v', 'j'), ('v', 'M'), ('v', 'Q'), ('Q', 'C'), ('Q', 'j'), ('Q', 'M'), ('Q', 'v')]\n",
      "\n",
      "[('C', 'j'), ('C', 'M'), ('C', 'v'), ('C', 'Q'), ('j', 'C'), ('j', 'M'), ('j', 'v'), ('j', 'Q'), ('M', 'C'), ('M', 'j'), ('M', 'v'), ('M', 'Q'), ('v', 'C'), ('v', 'j'), ('v', 'M'), ('v', 'Q'), ('Q', 'C'), ('Q', 'j'), ('Q', 'M'), ('Q', 'v')]\n",
      "\n"
     ]
    }
   ],
   "source": [
    "# DISCLAIMER: The following python code is not the only way to determine the total combinations \n",
    "# and permutations \n",
    "\n",
    "# iterating over all possible combinations or permutations\n",
    "import random # import random library in python\n",
    "import string # import string library in python\n",
    "from itertools import permutations # import permutations function from itertools module\n",
    "from itertools import combinations # import combinations function from itertools module\n",
    "from itertools import combinations_with_replacement # import permutations_with_replacement \n",
    "                                                    # function from itertools module\n",
    "\n",
    "dummy_letters = string.ascii_letters # contains a range of upper- and lower-case letters\n",
    "dummy_list = list()\n",
    "size_list = 5 # an arbitrary length of list\n",
    "\n",
    "# using list comprehensions extensively\n",
    "dummy_list = [random.choice(dummy_letters) for i in range(size_list)]\n",
    "permutations_list = [item for item in permutations(dummy_list)] # create all permutations\n",
    "permutations_list_2 = [item for item in permutations(dummy_list,2)] # create permutations of \n",
    "                                                                    # smaller length   \n",
    "combinations_list = [item for item in permutations(dummy_list,2)] # in combinations, the actual \n",
    "                                          # ordering of the items is not considered, \n",
    "                                          # i.e. (a,b,c) = (b,a,c)\n",
    "combinations_list_replace = [item for item in permutations(dummy_list,2)] # combinations with \n",
    "                                          # replacement enables items to be chosen for more than \n",
    "                                          # once for combinations\n",
    "print(permutations_list)\n",
    "print('')\n",
    "print(permutations_list_2)\n",
    "print('')\n",
    "print(combinations_list)\n",
    "print('')\n",
    "print(combinations_list_replace)\n",
    "print('')"
   ]
  }
 ],
 "metadata": {
  "kernelspec": {
   "display_name": "Python 3",
   "language": "python",
   "name": "python3"
  },
  "language_info": {
   "codemirror_mode": {
    "name": "ipython",
    "version": 3
   },
   "file_extension": ".py",
   "mimetype": "text/x-python",
   "name": "python",
   "nbconvert_exporter": "python",
   "pygments_lexer": "ipython3",
   "version": "3.6.5"
  }
 },
 "nbformat": 4,
 "nbformat_minor": 2
}
