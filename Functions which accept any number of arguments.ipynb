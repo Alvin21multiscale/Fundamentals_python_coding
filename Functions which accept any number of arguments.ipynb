{
 "cells": [
  {
   "cell_type": "markdown",
   "metadata": {},
   "source": [
    "## Functions that accept any number of positional arguments"
   ]
  },
  {
   "cell_type": "code",
   "execution_count": null,
   "metadata": {},
   "outputs": [],
   "source": [
    "# Writing function which accept any number of arguments\n",
    "import random # import random function in python\n",
    "global result # making result a global variable\n",
    "result = ''\n",
    "\n",
    "def any_no_arg(dummy_str, *dummy_value): # define an arbitrary function which accept any number\n",
    "                                         # of input arguments. Use a * argument to accept any\n",
    "                                         # number of input arguments\n",
    "    sub_result = item*dummy_str # concatenate the dummy string\n",
    "    return sub_result # return concatenated string\n",
    "\n",
    "random_list = [random.randint(1,100) for i in range(random.randint(1,10))] # create an arbitrary \n",
    "                                                                           # list\n",
    "dummy_sum = 0\n",
    "for item in random_list:\n",
    "    dummy_sum += item # counter \n",
    "    dummy_result = any_no_arg('python ', item) # call the above defined function\n",
    "    result += dummy_result # concatenate sub_result string to main result string\n",
    "    result += ' ' # add whitespace to main result string\n",
    "    print(str(dummy_sum) + ': ' + result)\n",
    "    print('')"
   ]
  }
 ],
 "metadata": {
  "kernelspec": {
   "display_name": "Python 3",
   "language": "python",
   "name": "python3"
  },
  "language_info": {
   "codemirror_mode": {
    "name": "ipython",
    "version": 3
   },
   "file_extension": ".py",
   "mimetype": "text/x-python",
   "name": "python",
   "nbconvert_exporter": "python",
   "pygments_lexer": "ipython3",
   "version": "3.6.5"
  }
 },
 "nbformat": 4,
 "nbformat_minor": 2
}
