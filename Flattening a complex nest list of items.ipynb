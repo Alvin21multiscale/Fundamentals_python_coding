{
 "cells": [
  {
   "cell_type": "markdown",
   "metadata": {},
   "source": [
    "## Flattening a 'crazily' complex large nested list of items (avoiding use large number of inner loops to extract out individual items)"
   ]
  },
  {
   "cell_type": "code",
   "execution_count": 1,
   "metadata": {},
   "outputs": [
    {
     "name": "stdout",
     "output_type": "stream",
     "text": [
      "['X', 'H', 'P', 'G', 931611578, 106204641, 366593297, 173293621, 939059498, 444000009, 602540720, 895909405, 961959205, 386183041, 294272343, 5078320, 975349151, 172369488, 112023359, 458662614, 112896942, 127373241, 328586902, 820192155, 38827654, 860899523, 962755733, 277155210, 115203514, 32169930, 445850360, 262668159, 738119963, 849765113, 698954423, 919029890, 601692556, 78067483, 482647001, 611182300, 310312422, 29454225, 770291306, 892236456, 'U', 'c', 'I', 'H', 'q', 'J', 'M', 'G', 'g', 'i', 'K', 'U', 'a', 'm', 144820495]\n"
     ]
    }
   ],
   "source": [
    "# DISCLAIMER: The following python code is not the only way to flatten a very complex large nested\n",
    "# list of items for data extractions\n",
    "\n",
    "# flattening a nested sequence\n",
    "from collections import Iterable\n",
    "\n",
    "def flatten(import_list, ignore_variable_types=(str,bytes)):\n",
    "    for item in import_list:\n",
    "        if isinstance(item,Iterable) and not isinstance(item,ignore_variable_types):\n",
    "            # isinstance(item,Iterable) checks if the item is iterable. If so, yield from\n",
    "            # is used to emit all of its values -> output a single sequence with no nesting\n",
    "            # additional argument of ignore_types  \n",
    "            # not isinstance(item, ignore_types) prevents strings and bytes from being \n",
    "            # interpreted as iterables and expanded as individual characters which allows\n",
    "            # list of strings to work in the usual means\n",
    "            yield from flatten(item, ignore_variable_types)\n",
    "        else:\n",
    "            yield item\n",
    "\n",
    "import random # import python's random library\n",
    "import string # import python's string library\n",
    "dummy_letters = string.ascii_letters # import string's lower- and upper-case alphabets\n",
    "\n",
    "list_size = int(10) # create a list size of 1,000,000 (user-defined); can be any list size\n",
    "random_choice = [1,2,3] # list of options: no. 1, 2 or 3\n",
    "complex_list = list() # create an empty list\n",
    "\n",
    "for i in range(list_size):\n",
    "    dummy_value = random.choice(random_choice)\n",
    "    if dummy_value == 1: # if choice = 1, we append a list of random integers to the main complex list\n",
    "        for j in range (dummy_value):\n",
    "            dummy_list = list()\n",
    "            dummy_list = [random.randint(1,10e8) for i in range(random.randint(1,list_size))]\n",
    "        complex_list.append(dummy_list)\n",
    "    elif dummy_value == 2: # if choice = 2, we append a list of random alpabets (lower- or upper-case) \n",
    "                           # to the main complex list\n",
    "        for j in range (dummy_value):\n",
    "            dummy_list = list()\n",
    "            dummy_list = [random.choice(dummy_letters) for i in range(random.randint(1,list_size))]\n",
    "        complex_list.append(dummy_list)\n",
    "    else:\n",
    "        for j in range (dummy_value): # if choice = 3, we append a list of random integers to the main complex list\n",
    "            dummy_list = list()\n",
    "            dummy_list = [random.randint(1,10e8) for i in range(random.randint(1,list_size))]\n",
    "        complex_list.append(dummy_list)\n",
    "\n",
    "flatten_list = list()\n",
    "for letter in flatten(complex_list):\n",
    "    flatten_list.append(letter) # the advantage of using the flatten function to \n",
    "print(flatten_list)"
   ]
  }
 ],
 "metadata": {
  "kernelspec": {
   "display_name": "Python 3",
   "language": "python",
   "name": "python3"
  },
  "language_info": {
   "codemirror_mode": {
    "name": "ipython",
    "version": 3
   },
   "file_extension": ".py",
   "mimetype": "text/x-python",
   "name": "python",
   "nbconvert_exporter": "python",
   "pygments_lexer": "ipython3",
   "version": "3.6.5"
  }
 },
 "nbformat": 4,
 "nbformat_minor": 2
}
