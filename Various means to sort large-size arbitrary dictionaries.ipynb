{
 "cells": [
  {
   "cell_type": "markdown",
   "metadata": {},
   "source": [
    "# Use of various means to sort large-size arbitrary dictionaries"
   ]
  },
  {
   "cell_type": "code",
   "execution_count": null,
   "metadata": {},
   "outputs": [],
   "source": [
    "# DISCLAIMER: The following python code is not the only way to determmine the most frequent \n",
    "# item in a defined sequence\n",
    "\n",
    "# Sorting a defined list of dictionaries by a common key or keys\n",
    "from operator import itemgetter # import itemgetter function in python\n",
    "import random # import random function in python \n",
    "import string # import string function in python\n",
    "random_letters =  string.ascii_letters # create a range of lower- and uppercase letters\n",
    "\n",
    "# sorted for nested list of dictionaries within a list with an itemgetter function\n",
    "size_dict = random.randint(1,100000)\n",
    "main_list = list()\n",
    "for i in range(size_dict):\n",
    "    sub_dict = {}\n",
    "    sub_dict['index'] = random.randint(1,100000)\n",
    "    main_list.append(sub_dict)\n",
    "sorted_dict = sorted(main_list, key = itemgetter('index')) # use of itemgetter function :)\n",
    "print(sorted_dict)\n",
    "\n",
    "# sorted for a dictionary without itemgetter function\n",
    "size_dict = random.randint(1,100000)\n",
    "main_dict = dict()\n",
    "for i in range(size_dict):\n",
    "    dummy_letter = random.choice(random_letters)\n",
    "    if dummy_letter in main_dict.keys():\n",
    "        main_dict[dummy_letter] += 1\n",
    "    else:\n",
    "        main_dict[dummy_letter] = 1\n",
    "sorted_dict2 = sorted((main_dict.values())) # simple of sorted function\n",
    "print(sorted_dict)\n",
    "\n",
    "# sorted for a complicated nested list of dictionaries within a list\n",
    "size_dict2 = random.randint(1,100000)\n",
    "main_list2 = []\n",
    "for i in range(size_dict2):\n",
    "    sub_dict2 = {}\n",
    "    sub_dict2['index'] = random.randint(1,10000)\n",
    "    sub_dict2['quantity'] = random.randint(1,10000)\n",
    "    main_list2.append(sub_dict2)\n",
    "sorted_dict3 = sorted(main_list2, key = lambda x: (x['quantity'])) # use of lambda dummy function\n",
    "print(sorted_dict3)"
   ]
  }
 ],
 "metadata": {
  "kernelspec": {
   "display_name": "Python 3",
   "language": "python",
   "name": "python3"
  },
  "language_info": {
   "codemirror_mode": {
    "name": "ipython",
    "version": 3
   },
   "file_extension": ".py",
   "mimetype": "text/x-python",
   "name": "python",
   "nbconvert_exporter": "python",
   "pygments_lexer": "ipython3",
   "version": "3.6.5"
  }
 },
 "nbformat": 4,
 "nbformat_minor": 2
}
