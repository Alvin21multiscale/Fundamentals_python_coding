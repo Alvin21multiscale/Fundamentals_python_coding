{
 "cells": [
  {
   "cell_type": "markdown",
   "metadata": {},
   "source": [
    "## Finding the nth largest number in an arbitrary list of integers without using any types of sorting function"
   ]
  },
  {
   "cell_type": "code",
   "execution_count": 1,
   "metadata": {},
   "outputs": [
    {
     "name": "stdout",
     "output_type": "stream",
     "text": [
      "Please decide on the size of the arbitrary list: 10\n",
      "\n",
      "[429996369, 180815307, 210703901, 502211836, 845720451, 127485759, 114319206, 619813231, 338514848, 517599633]\n",
      "\n",
      "Please select your desired nth largest number in the new sorted list: 10\n",
      "\n",
      "Your choice of the no.10 largest number in the sorted list is 114319206.\n"
     ]
    }
   ],
   "source": [
    "# DISCLAIMER: The following python code is not the only way to determine the nth largest number in an arbitrary list of\n",
    "# integers without using any types of sorting functions\n",
    "\n",
    "import random # import random library \n",
    "\n",
    "# user to input their choice of the size of the list of arbitrary integers\n",
    "list_size = int(input('Please decide on the size of the arbitrary list: '))\n",
    "print('')\n",
    "\n",
    "# use of list comprehensions to create the arbitrary list of integers\n",
    "random_list = [random.randint(1,10E8) for count in range(list_size)]\n",
    "print(random_list)\n",
    "print('')\n",
    "\n",
    "# create an empty list to contain the re-arranged numbers from the arbitrary list\n",
    "largest_to_smallest = list()\n",
    "\n",
    "# create a unique loop to: (1) detect max. number in list; \n",
    "#                          (2) remove the max. number identified from step (1) from the arbitrary list;\n",
    "#                          (3) append the max. number idenfitifed from step (1) into new list \n",
    "#                          (4) continue steps (1-3) till all integers of the above random_list have been removed\n",
    "max_number = 0\n",
    "while True:\n",
    "    for i in range(len(random_list)):\n",
    "        if random_list[i] >= max_number:\n",
    "            max_number = random_list[i]\n",
    "    random_list.remove(max_number)\n",
    "    largest_to_smallest.append(max_number)\n",
    "    max_number = 0\n",
    "    if len(random_list) == 0:\n",
    "        break\n",
    "        \n",
    "# user to select their desired choice of the nth largest number in the new sorted list\n",
    "while True:\n",
    "    choice_user_largest = int(input('Please select your desired nth largest number in the new sorted list: '))\n",
    "    if choice_user_largest > len(largest_to_smallest) or choice_user_largest <= 0:\n",
    "        print('You entered a wrong choice. Please enter again')\n",
    "        print(int(input('Please re-select your desired nth largest number in the new sorted list: ')))\n",
    "    else:\n",
    "        break\n",
    "# printing out the selected nth largest number in the new sorted list\n",
    "print('')\n",
    "print('Your choice of the no.' + str(choice_user_largest) + ' largest number in the sorted list is ' \\\n",
    "      + str(largest_to_smallest[choice_user_largest-1]) + '.')"
   ]
  }
 ],
 "metadata": {
  "kernelspec": {
   "display_name": "Python 3",
   "language": "python",
   "name": "python3"
  },
  "language_info": {
   "codemirror_mode": {
    "name": "ipython",
    "version": 3
   },
   "file_extension": ".py",
   "mimetype": "text/x-python",
   "name": "python",
   "nbconvert_exporter": "python",
   "pygments_lexer": "ipython3",
   "version": "3.6.5"
  }
 },
 "nbformat": 4,
 "nbformat_minor": 2
}
