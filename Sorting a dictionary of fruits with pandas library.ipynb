{
 "cells": [
  {
   "cell_type": "markdown",
   "metadata": {},
   "source": [
    "# Sorting out dictionaries of fruits via use of pandas library"
   ]
  },
  {
   "cell_type": "code",
   "execution_count": null,
   "metadata": {},
   "outputs": [],
   "source": [
    "import random as rm\n",
    "import pandas as pd\n",
    "\n",
    "list_of_fruits = ['apple','orange','pineapple','papaya','banana',\n",
    "                  'kiwi','durian','berries','lemon','longan'] # create an arbitrary list of fruits\n",
    "\n",
    "while True:\n",
    "    # enter choice of size for dictionary\n",
    "    size_of_dict = (input('Please enter your choice for the size of the dictionary: '))\n",
    "    # check if input is numeric and not a float number\n",
    "    if size_of_dict.isnumeric() is True and float(size_of_dict) is not True:\n",
    "        break\n",
    "    else:\n",
    "        print('You entered the wrong type of choice. Please try again! ')\n",
    "print('')\n",
    "print('You entered the right type of choice.')\n",
    "\n",
    "fruits_dict = dict() # create empty dictionary of fruits\n",
    "for i in range(int(size_of_dict)):\n",
    "    dummy_value = rm.randint(0,len(list_of_fruits)-1) # select random index from list_of_fruits\n",
    "    if list_of_fruits[dummy_value] in fruits_dict.keys():\n",
    "        fruits_dict[list_of_fruits[dummy_value]] += 1\n",
    "    else:\n",
    "        fruits_dict[list_of_fruits[dummy_value]] = 1\n",
    "for item in list_of_fruits:\n",
    "    if item not in fruits_dict.keys(): # check for fruit not in fruits_dict\n",
    "        fruits_dict[item] = 0\n",
    "    \n",
    "print('')\n",
    "print(fruits_dict)\n",
    "\n",
    "fruits_table = pd.DataFrame()\n",
    "fruits_table['Fruit name'] = fruits_dict.keys()\n",
    "fruits_table['Quantity'] = fruits_dict.values()\n",
    "fruits_table.sort_values(by=['Quantity'],ascending = True, inplace = True)\n",
    "fruits_table.reset_index(inplace=True)\n",
    "fruits_table.drop(columns='index',inplace=True)\n",
    "fruits_table"
   ]
  }
 ],
 "metadata": {
  "kernelspec": {
   "display_name": "Python 3",
   "language": "python",
   "name": "python3"
  },
  "language_info": {
   "codemirror_mode": {
    "name": "ipython",
    "version": 3
   },
   "file_extension": ".py",
   "mimetype": "text/x-python",
   "name": "python",
   "nbconvert_exporter": "python",
   "pygments_lexer": "ipython3",
   "version": "3.6.5"
  }
 },
 "nbformat": 4,
 "nbformat_minor": 2
}
