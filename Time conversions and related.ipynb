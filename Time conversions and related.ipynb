{
 "cells": [
  {
   "cell_type": "markdown",
   "metadata": {},
   "source": [
    "# Time conversions and related"
   ]
  },
  {
   "cell_type": "code",
   "execution_count": 1,
   "metadata": {},
   "outputs": [
    {
     "name": "stdout",
     "output_type": "stream",
     "text": [
      "The total number of days is 348.\n",
      "The remaining amount of seconds is 28800.\n",
      "The total amount of seconds is 30096000.0.\n",
      "The exact date after adding defined number of days is 2019-03-29 00:00:00.\n",
      "The exact date after deducting defined number of mins is 2019-03-19 23:14:00.\n",
      "The difference in days between older date and newer date is 443 days, 0:00:00.\n",
      "The exact date for today is 2019-03-21 19:25:57.837634.\n"
     ]
    }
   ],
   "source": [
    "# DISCLAIMER: The following python code is not the only way to determine for time conversions \n",
    "# and related\n",
    "\n",
    "# Converting days to seconds and other types of time conversions\n",
    "\n",
    "# import random function and relevant datetime functions in python\n",
    "import random\n",
    "from datetime import timedelta\n",
    "from datetime import datetime\n",
    "\n",
    "time_1 = timedelta(days = random.randint(0,365), hours = random.randint(0,24))\n",
    "time_2 = timedelta(hours = random.randint(1,24))\n",
    "result_time = time_1 + time_2\n",
    "result_days, result2_seconds, result3_total_secs = \\\n",
    "result_time.days,result_time.seconds,result_time.total_seconds()\n",
    "\n",
    "print('The total number of days is ' + str(result_days) + '.')\n",
    "print('The remaining amount of seconds is ' + str(result2_seconds) + '.')\n",
    "print('The total amount of seconds is ' + str(result3_total_secs) + '.')\n",
    "\n",
    "\n",
    "# to represent specific dates and times\n",
    "year = 2019\n",
    "month = 3\n",
    "day = 20\n",
    "any_date = datetime(year, month, day) # year, month, day\n",
    "add_days = any_date + timedelta(days=random.randint(1,365)) # adding days \n",
    "print('The exact date after adding defined number of days is ' + str(add_days) + '.')\n",
    "\n",
    "minus_mins = any_date - timedelta(minutes=random.randint(1,60)) # substracting minutes\n",
    "print('The exact date after deducting defined number of mins is ' + str(minus_mins) + '.')\n",
    "\n",
    "year_old = 2018\n",
    "month_old = 1\n",
    "day_old = 1\n",
    "old_datetime = datetime(year_old,month_old,day_old)\n",
    "minus_date = any_date - old_datetime # substracting exact date\n",
    "if minus_date.days < 0:\n",
    "    print('You entered an illogical choice of the older date to be deducted from the present date.')\n",
    "else:\n",
    "    print('The difference in days between older date and newer date is ' + str(minus_date) + '.')\n",
    "\n",
    "today_date = datetime.today() \n",
    "print('The exact date for today is ' + str(today_date) + '.')"
   ]
  }
 ],
 "metadata": {
  "kernelspec": {
   "display_name": "Python 3",
   "language": "python",
   "name": "python3"
  },
  "language_info": {
   "codemirror_mode": {
    "name": "ipython",
    "version": 3
   },
   "file_extension": ".py",
   "mimetype": "text/x-python",
   "name": "python",
   "nbconvert_exporter": "python",
   "pygments_lexer": "ipython3",
   "version": "3.6.5"
  }
 },
 "nbformat": 4,
 "nbformat_minor": 2
}
