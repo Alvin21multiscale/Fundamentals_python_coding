{
 "cells": [
  {
   "cell_type": "markdown",
   "metadata": {},
   "source": [
    "# Creating a 2D numpy array "
   ]
  },
  {
   "cell_type": "code",
   "execution_count": 28,
   "metadata": {},
   "outputs": [
    {
     "name": "stdout",
     "output_type": "stream",
     "text": [
      "[[550480 567311 460985 ... 448639 911949 901157]\n",
      " [138689 958776 139310 ... 961782 191351 527783]\n",
      " [323435 414610 102563 ... 715130 954401  98669]\n",
      " ...\n",
      " [331264 775411 117789 ... 727935 838605 400264]\n",
      " [509377 392106 479019 ... 952778 152480 188164]\n",
      " [141910 377472 901713 ... 887933 499074 886897]]\n",
      "\n",
      "100\n",
      "\n",
      "100\n"
     ]
    }
   ],
   "source": [
    "import numpy as np # import python's numpy library. numpy contains plenty of mathematical tools\n",
    "import random # import random function in python\n",
    "\n",
    "no_of_rows = 100 # arbitrary rows for 2D array\n",
    "\n",
    "main_list = list()\n",
    "for i in range(no_of_rows):\n",
    "    dummy_list = list()\n",
    "    no_of_columns = 100\n",
    "    for i in range(no_of_columns):\n",
    "        dummy_list.append(random.randint(1,10e5))\n",
    "    main_list.append(dummy_list)\n",
    "\n",
    "array_2D = np.array(main_list) # creating a 2D array \n",
    "\n",
    "# selecting row 1 from array_2D\n",
    "ROW_1 = array_2D[1]\n",
    "# print(ROW_1)\n",
    "\n",
    "# selecting column 1 from array_2D\n",
    "COLUMN_1 = array_2D[:,1]\n",
    "# print(COLUMN_1)\n",
    "\n",
    "# selecting a sub-region and altering that region\n",
    "SUB_REGION_1 = array_2D[10:21,50:71] # selecting row 10 to 20 and column 50 to 70\n",
    "SUB_REGION_1 += random.randint(1,100)\n",
    "# print(array_2D)\n",
    "\n",
    "# operations on all rows\n",
    "new_array_2D_add = array_2D + random.randint(1,1000)\n",
    "new_array_2D_multiply = array_2D * random.randint(1,1000)\n",
    "new_array_2D_substract = array_2D - random.randint(1,1000)\n",
    "new_array_2D_divide = array_2D / random.randint(1,1000)\n",
    "\n",
    "# location of specific region based on conditional assigment on array\n",
    "new_array_2D_extract = np.where(array_2D > 1000, array_2D, 100000) \n",
    "                                        # when True, yield array_2D, else yield 100000\n",
    "print(new_array_2D_extract)\n",
    "print('')\n",
    "print(len(array_2D))\n",
    "print('')\n",
    "print(len(new_array_2D_extract))"
   ]
  }
 ],
 "metadata": {
  "kernelspec": {
   "display_name": "Python 3",
   "language": "python",
   "name": "python3"
  },
  "language_info": {
   "codemirror_mode": {
    "name": "ipython",
    "version": 3
   },
   "file_extension": ".py",
   "mimetype": "text/x-python",
   "name": "python",
   "nbconvert_exporter": "python",
   "pygments_lexer": "ipython3",
   "version": "3.6.5"
  }
 },
 "nbformat": 4,
 "nbformat_minor": 2
}
